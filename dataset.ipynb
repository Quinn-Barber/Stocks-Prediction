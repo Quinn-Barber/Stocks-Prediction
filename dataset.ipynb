{
 "cells": [
  {
   "cell_type": "code",
   "execution_count": 9,
   "id": "e2579468",
   "metadata": {},
   "outputs": [],
   "source": [
    "import yfinance as yf\n",
    "import pandas as pd\n",
    "from datetime import date, timedelta\n",
    "import datetime"
   ]
  },
  {
   "cell_type": "code",
   "execution_count": 31,
   "id": "316b96cf",
   "metadata": {},
   "outputs": [
    {
     "name": "stdout",
     "output_type": "stream",
     "text": [
      "[*********************100%***********************]  1 of 1 completed\n"
     ]
    },
    {
     "data": {
      "text/html": [
       "<div>\n",
       "<style scoped>\n",
       "    .dataframe tbody tr th:only-of-type {\n",
       "        vertical-align: middle;\n",
       "    }\n",
       "\n",
       "    .dataframe tbody tr th {\n",
       "        vertical-align: top;\n",
       "    }\n",
       "\n",
       "    .dataframe thead th {\n",
       "        text-align: right;\n",
       "    }\n",
       "</style>\n",
       "<table border=\"1\" class=\"dataframe\">\n",
       "  <thead>\n",
       "    <tr style=\"text-align: right;\">\n",
       "      <th></th>\n",
       "      <th>Open</th>\n",
       "      <th>High</th>\n",
       "      <th>Low</th>\n",
       "      <th>Close</th>\n",
       "      <th>Adj Close</th>\n",
       "      <th>Volume</th>\n",
       "    </tr>\n",
       "    <tr>\n",
       "      <th>Datetime</th>\n",
       "      <th></th>\n",
       "      <th></th>\n",
       "      <th></th>\n",
       "      <th></th>\n",
       "      <th></th>\n",
       "      <th></th>\n",
       "    </tr>\n",
       "  </thead>\n",
       "  <tbody>\n",
       "    <tr>\n",
       "      <th>2023-02-09 09:30:00-05:00</th>\n",
       "      <td>273.799988</td>\n",
       "      <td>273.980011</td>\n",
       "      <td>272.179993</td>\n",
       "      <td>272.230011</td>\n",
       "      <td>272.230011</td>\n",
       "      <td>3736055</td>\n",
       "    </tr>\n",
       "    <tr>\n",
       "      <th>2023-02-09 09:31:00-05:00</th>\n",
       "      <td>272.260010</td>\n",
       "      <td>272.540009</td>\n",
       "      <td>271.299988</td>\n",
       "      <td>271.350006</td>\n",
       "      <td>271.350006</td>\n",
       "      <td>293261</td>\n",
       "    </tr>\n",
       "    <tr>\n",
       "      <th>2023-02-09 09:32:00-05:00</th>\n",
       "      <td>271.355011</td>\n",
       "      <td>272.000000</td>\n",
       "      <td>271.299988</td>\n",
       "      <td>271.760010</td>\n",
       "      <td>271.760010</td>\n",
       "      <td>265684</td>\n",
       "    </tr>\n",
       "    <tr>\n",
       "      <th>2023-02-09 09:33:00-05:00</th>\n",
       "      <td>271.779999</td>\n",
       "      <td>272.079987</td>\n",
       "      <td>271.309998</td>\n",
       "      <td>271.429993</td>\n",
       "      <td>271.429993</td>\n",
       "      <td>161913</td>\n",
       "    </tr>\n",
       "    <tr>\n",
       "      <th>2023-02-09 09:34:00-05:00</th>\n",
       "      <td>271.429993</td>\n",
       "      <td>271.790009</td>\n",
       "      <td>271.350006</td>\n",
       "      <td>271.771088</td>\n",
       "      <td>271.771088</td>\n",
       "      <td>196535</td>\n",
       "    </tr>\n",
       "    <tr>\n",
       "      <th>...</th>\n",
       "      <td>...</td>\n",
       "      <td>...</td>\n",
       "      <td>...</td>\n",
       "      <td>...</td>\n",
       "      <td>...</td>\n",
       "      <td>...</td>\n",
       "    </tr>\n",
       "    <tr>\n",
       "      <th>2023-02-17 15:55:00-05:00</th>\n",
       "      <td>257.709991</td>\n",
       "      <td>258.299988</td>\n",
       "      <td>257.709991</td>\n",
       "      <td>258.119995</td>\n",
       "      <td>258.119995</td>\n",
       "      <td>190211</td>\n",
       "    </tr>\n",
       "    <tr>\n",
       "      <th>2023-02-17 15:56:00-05:00</th>\n",
       "      <td>258.130005</td>\n",
       "      <td>258.279999</td>\n",
       "      <td>258.000000</td>\n",
       "      <td>258.119995</td>\n",
       "      <td>258.119995</td>\n",
       "      <td>179955</td>\n",
       "    </tr>\n",
       "    <tr>\n",
       "      <th>2023-02-17 15:57:00-05:00</th>\n",
       "      <td>258.119995</td>\n",
       "      <td>258.160004</td>\n",
       "      <td>257.785004</td>\n",
       "      <td>257.869995</td>\n",
       "      <td>257.869995</td>\n",
       "      <td>211603</td>\n",
       "    </tr>\n",
       "    <tr>\n",
       "      <th>2023-02-17 15:58:00-05:00</th>\n",
       "      <td>257.880005</td>\n",
       "      <td>258.040009</td>\n",
       "      <td>257.769989</td>\n",
       "      <td>257.929993</td>\n",
       "      <td>257.929993</td>\n",
       "      <td>175631</td>\n",
       "    </tr>\n",
       "    <tr>\n",
       "      <th>2023-02-17 15:59:00-05:00</th>\n",
       "      <td>257.930115</td>\n",
       "      <td>258.119995</td>\n",
       "      <td>257.799988</td>\n",
       "      <td>258.089996</td>\n",
       "      <td>258.089996</td>\n",
       "      <td>304945</td>\n",
       "    </tr>\n",
       "  </tbody>\n",
       "</table>\n",
       "<p>2729 rows × 6 columns</p>\n",
       "</div>"
      ],
      "text/plain": [
       "                                 Open        High         Low       Close  \\\n",
       "Datetime                                                                    \n",
       "2023-02-09 09:30:00-05:00  273.799988  273.980011  272.179993  272.230011   \n",
       "2023-02-09 09:31:00-05:00  272.260010  272.540009  271.299988  271.350006   \n",
       "2023-02-09 09:32:00-05:00  271.355011  272.000000  271.299988  271.760010   \n",
       "2023-02-09 09:33:00-05:00  271.779999  272.079987  271.309998  271.429993   \n",
       "2023-02-09 09:34:00-05:00  271.429993  271.790009  271.350006  271.771088   \n",
       "...                               ...         ...         ...         ...   \n",
       "2023-02-17 15:55:00-05:00  257.709991  258.299988  257.709991  258.119995   \n",
       "2023-02-17 15:56:00-05:00  258.130005  258.279999  258.000000  258.119995   \n",
       "2023-02-17 15:57:00-05:00  258.119995  258.160004  257.785004  257.869995   \n",
       "2023-02-17 15:58:00-05:00  257.880005  258.040009  257.769989  257.929993   \n",
       "2023-02-17 15:59:00-05:00  257.930115  258.119995  257.799988  258.089996   \n",
       "\n",
       "                            Adj Close   Volume  \n",
       "Datetime                                        \n",
       "2023-02-09 09:30:00-05:00  272.230011  3736055  \n",
       "2023-02-09 09:31:00-05:00  271.350006   293261  \n",
       "2023-02-09 09:32:00-05:00  271.760010   265684  \n",
       "2023-02-09 09:33:00-05:00  271.429993   161913  \n",
       "2023-02-09 09:34:00-05:00  271.771088   196535  \n",
       "...                               ...      ...  \n",
       "2023-02-17 15:55:00-05:00  258.119995   190211  \n",
       "2023-02-17 15:56:00-05:00  258.119995   179955  \n",
       "2023-02-17 15:57:00-05:00  257.869995   211603  \n",
       "2023-02-17 15:58:00-05:00  257.929993   175631  \n",
       "2023-02-17 15:59:00-05:00  258.089996   304945  \n",
       "\n",
       "[2729 rows x 6 columns]"
      ]
     },
     "execution_count": 31,
     "metadata": {},
     "output_type": "execute_result"
    }
   ],
   "source": [
    "data = yf.download(tickers = \"MSFT\", period = \"7d\", interval = \"1m\")\n",
    "start_date = datetime.datetime(2023, 1, 25)\n",
    "end_date = datetime.datetime(2023, 2, 10)\n",
    "data\n",
    "\n",
    "# ticker = \"MSFT\"\n",
    "# df = yf.download(ticker, period=\"1y\", interval=\"1h\")\n",
    "\n",
    "# df.to_csv(f\"{ticker}.csv\")\n",
    "# df = pd.read_csv(\"MSFT.csv\")"
   ]
  },
  {
   "cell_type": "code",
   "execution_count": 36,
   "id": "8aecb353",
   "metadata": {
    "scrolled": true
   },
   "outputs": [
    {
     "name": "stdout",
     "output_type": "stream",
     "text": [
      "start_date: 2023-01-25 00:00:00\n",
      "end_date: 2023-02-10 00:00:00\n",
      "start_date_list:\n",
      "[datetime.datetime(2023, 1, 25, 0, 0), datetime.datetime(2023, 2, 1, 0, 0), datetime.datetime(2023, 2, 8, 0, 0), datetime.datetime(2023, 2, 15, 0, 0), datetime.datetime(2023, 2, 22, 0, 0)]\n",
      "end_date_list:\n",
      "[datetime.datetime(2023, 1, 31, 0, 0), datetime.datetime(2023, 2, 7, 0, 0), datetime.datetime(2023, 2, 14, 0, 0), datetime.datetime(2023, 2, 21, 0, 0), datetime.datetime(2023, 2, 10, 0, 0)]\n",
      "===========================================================\n",
      "\n",
      "[*********************100%***********************]  1 of 1 completed\n"
     ]
    },
    {
     "name": "stderr",
     "output_type": "stream",
     "text": [
      "C:\\Users\\kayra\\AppData\\Local\\Temp\\ipykernel_11296\\2558275195.py:28: FutureWarning: The frame.append method is deprecated and will be removed from pandas in a future version. Use pandas.concat instead.\n",
      "  df_1min = df_1min.append(data)\n"
     ]
    },
    {
     "name": "stdout",
     "output_type": "stream",
     "text": [
      "[*********************100%***********************]  1 of 1 completed\n"
     ]
    },
    {
     "name": "stderr",
     "output_type": "stream",
     "text": [
      "C:\\Users\\kayra\\AppData\\Local\\Temp\\ipykernel_11296\\2558275195.py:28: FutureWarning: The frame.append method is deprecated and will be removed from pandas in a future version. Use pandas.concat instead.\n",
      "  df_1min = df_1min.append(data)\n"
     ]
    },
    {
     "name": "stdout",
     "output_type": "stream",
     "text": [
      "[*********************100%***********************]  1 of 1 completed\n"
     ]
    },
    {
     "name": "stderr",
     "output_type": "stream",
     "text": [
      "C:\\Users\\kayra\\AppData\\Local\\Temp\\ipykernel_11296\\2558275195.py:28: FutureWarning: The frame.append method is deprecated and will be removed from pandas in a future version. Use pandas.concat instead.\n",
      "  df_1min = df_1min.append(data)\n"
     ]
    },
    {
     "name": "stdout",
     "output_type": "stream",
     "text": [
      "[*********************100%***********************]  1 of 1 completed\n",
      "Data size: 35082\n"
     ]
    },
    {
     "name": "stderr",
     "output_type": "stream",
     "text": [
      "C:\\Users\\kayra\\AppData\\Local\\Temp\\ipykernel_11296\\2558275195.py:28: FutureWarning: The frame.append method is deprecated and will be removed from pandas in a future version. Use pandas.concat instead.\n",
      "  df_1min = df_1min.append(data)\n"
     ]
    }
   ],
   "source": [
    "# Specify start dates and end dates\n",
    "# end_date = date.today()\n",
    "# start_date = end_date - timedelta(days=29)\n",
    "\n",
    "print('start_date:', start_date)\n",
    "print('end_date:', end_date)\n",
    "\n",
    "# Start dates\n",
    "start_date_list = [start_date + timedelta(days=7*i) for i in range(5)]\n",
    "print('start_date_list:')\n",
    "print(start_date_list)\n",
    "\n",
    "# End dates\n",
    "end_date_list = [start_date_list[i+1] - timedelta(days=1) for i in range(4)] + [end_date]\n",
    "print('end_date_list:')\n",
    "print(end_date_list)\n",
    "\n",
    "print('===========================================================\\n')\n",
    "\n",
    "# Use for-loop to extract data\n",
    "df_1min = pd.DataFrame({})\n",
    "\n",
    "for idx in range(5):\n",
    "    data = yf.download(tickers=\"MSFT\", \n",
    "                       start=start_date_list[idx].strftime(\"%Y-%m-%d\"), \n",
    "                       end=end_date_list[idx].strftime(\"%Y-%m-%d\"), \n",
    "                       interval = \"1m\")\n",
    "    df_1min = df_1min.append(data)\n",
    "\n",
    "print(\"Data size: \" + str(df_1min.size))\n",
    "data\n",
    "\n",
    "# Create a test csv file given a raw path string\n",
    "df_1min.to_csv(r\"tmp.csv\") "
   ]
  },
  {
   "cell_type": "code",
   "execution_count": 10,
   "id": "12d5a67e",
   "metadata": {},
   "outputs": [
    {
     "name": "stdout",
     "output_type": "stream",
     "text": [
      "start_date: 2023-01-13\n",
      "end_date: 2023-02-11\n",
      "start_date_list:\n",
      "[datetime.date(2023, 1, 13), datetime.date(2023, 1, 20), datetime.date(2023, 1, 27), datetime.date(2023, 2, 3), datetime.date(2023, 2, 10)]\n",
      "end_date_list:\n",
      "[datetime.date(2023, 1, 19), datetime.date(2023, 1, 26), datetime.date(2023, 2, 2), datetime.date(2023, 2, 9), datetime.date(2023, 2, 11)]\n",
      "===========================================================\n",
      "\n",
      "[*********************100%***********************]  1 of 1 completed\n"
     ]
    },
    {
     "name": "stderr",
     "output_type": "stream",
     "text": [
      "C:\\Users\\kayra\\AppData\\Local\\Temp\\ipykernel_27416\\3677925876.py:28: FutureWarning: The frame.append method is deprecated and will be removed from pandas in a future version. Use pandas.concat instead.\n",
      "  df_1min = df_1min.append(data)\n"
     ]
    },
    {
     "name": "stdout",
     "output_type": "stream",
     "text": [
      "[*********************100%***********************]  1 of 1 completed\n"
     ]
    },
    {
     "name": "stderr",
     "output_type": "stream",
     "text": [
      "C:\\Users\\kayra\\AppData\\Local\\Temp\\ipykernel_27416\\3677925876.py:28: FutureWarning: The frame.append method is deprecated and will be removed from pandas in a future version. Use pandas.concat instead.\n",
      "  df_1min = df_1min.append(data)\n"
     ]
    },
    {
     "name": "stdout",
     "output_type": "stream",
     "text": [
      "[*********************100%***********************]  1 of 1 completed\n"
     ]
    },
    {
     "name": "stderr",
     "output_type": "stream",
     "text": [
      "C:\\Users\\kayra\\AppData\\Local\\Temp\\ipykernel_27416\\3677925876.py:28: FutureWarning: The frame.append method is deprecated and will be removed from pandas in a future version. Use pandas.concat instead.\n",
      "  df_1min = df_1min.append(data)\n"
     ]
    },
    {
     "name": "stdout",
     "output_type": "stream",
     "text": [
      "[*********************100%***********************]  1 of 1 completed\n",
      "[*********************100%***********************]  1 of 1 completed\n",
      "Data size: 37422\n"
     ]
    },
    {
     "name": "stderr",
     "output_type": "stream",
     "text": [
      "C:\\Users\\kayra\\AppData\\Local\\Temp\\ipykernel_27416\\3677925876.py:28: FutureWarning: The frame.append method is deprecated and will be removed from pandas in a future version. Use pandas.concat instead.\n",
      "  df_1min = df_1min.append(data)\n",
      "C:\\Users\\kayra\\AppData\\Local\\Temp\\ipykernel_27416\\3677925876.py:28: FutureWarning: The frame.append method is deprecated and will be removed from pandas in a future version. Use pandas.concat instead.\n",
      "  df_1min = df_1min.append(data)\n"
     ]
    }
   ],
   "source": [
    "# Specify start dates and end dates\n",
    "end_date = date.today()\n",
    "start_date = end_date - timedelta(days=29)\n",
    "\n",
    "print('start_date:', start_date)\n",
    "print('end_date:', end_date)\n",
    "\n",
    "# Start dates\n",
    "start_date_list = [start_date + timedelta(days=7*i) for i in range(5)]\n",
    "print('start_date_list:')\n",
    "print(start_date_list)\n",
    "\n",
    "# End dates\n",
    "end_date_list = [start_date_list[i+1] - timedelta(days=1) for i in range(4)] + [end_date]\n",
    "print('end_date_list:')\n",
    "print(end_date_list)\n",
    "\n",
    "print('===========================================================\\n')\n",
    "\n",
    "# Use for-loop to extract data\n",
    "df_1min = pd.DataFrame({})\n",
    "\n",
    "for idx in range(5):\n",
    "    data = yf.download(tickers=\"MSFT\", \n",
    "                       start=start_date_list[idx].strftime(\"%Y-%m-%d\"), \n",
    "                       end=end_date_list[idx].strftime(\"%Y-%m-%d\"), \n",
    "                       interval = \"1m\")\n",
    "    df_1min = df_1min.append(data)\n",
    "\n",
    "print(\"Data size: \" + str(df_1min.size))\n",
    "\n",
    "# Create a test csv file given a raw path string\n",
    "df_1min.to_csv(r\"Datasets/MSFT_2023-01-13_2023-02-10.csv\") "
   ]
  },
  {
   "cell_type": "code",
   "execution_count": null,
   "id": "96bd0253",
   "metadata": {},
   "outputs": [],
   "source": [
    "# Update Dataset\n",
    "\n"
   ]
  },
  {
   "cell_type": "code",
   "execution_count": 27,
   "id": "78f43978",
   "metadata": {},
   "outputs": [],
   "source": [
    "df = pd.read_csv(\"Datasets/dataset (MSFT).csv\")\n",
    "df_2 = pd.read_csv(\"Predictions/Combined Model Price Prediction.csv\")\n",
    "\n",
    "dfloc = df.loc[5446:, 'Unnamed: 0']\n",
    "dfloc.reset_index(drop=True, inplace = True)\n",
    "df_2[\"Date\"] = dfloc\n",
    "df_2.to_csv (r'C:\\Users\\kayra\\OneDrive\\Desktop\\Stonks 2022\\Stocks-Prediction\\Predictions\\Combined Model Price Prediction Dates.csv', index = False, header=True)"
   ]
  },
  {
   "cell_type": "code",
   "execution_count": 39,
   "id": "7d80ebb0",
   "metadata": {},
   "outputs": [
    {
     "name": "stdout",
     "output_type": "stream",
     "text": [
      "[*********************100%***********************]  1 of 1 completed\n"
     ]
    },
    {
     "name": "stderr",
     "output_type": "stream",
     "text": [
      "C:\\Users\\kayra\\AppData\\Local\\Temp\\ipykernel_11296\\4138909008.py:9: FutureWarning: The frame.append method is deprecated and will be removed from pandas in a future version. Use pandas.concat instead.\n",
      "  df_1min = df_1min.append(data)\n"
     ]
    },
    {
     "data": {
      "text/html": [
       "<div>\n",
       "<style scoped>\n",
       "    .dataframe tbody tr th:only-of-type {\n",
       "        vertical-align: middle;\n",
       "    }\n",
       "\n",
       "    .dataframe tbody tr th {\n",
       "        vertical-align: top;\n",
       "    }\n",
       "\n",
       "    .dataframe thead th {\n",
       "        text-align: right;\n",
       "    }\n",
       "</style>\n",
       "<table border=\"1\" class=\"dataframe\">\n",
       "  <thead>\n",
       "    <tr style=\"text-align: right;\">\n",
       "      <th></th>\n",
       "      <th>Open</th>\n",
       "      <th>High</th>\n",
       "      <th>Low</th>\n",
       "      <th>Close</th>\n",
       "      <th>Adj Close</th>\n",
       "      <th>Volume</th>\n",
       "    </tr>\n",
       "    <tr>\n",
       "      <th>Datetime</th>\n",
       "      <th></th>\n",
       "      <th></th>\n",
       "      <th></th>\n",
       "      <th></th>\n",
       "      <th></th>\n",
       "      <th></th>\n",
       "    </tr>\n",
       "  </thead>\n",
       "  <tbody>\n",
       "    <tr>\n",
       "      <th>2023-02-13 09:30:00-05:00</th>\n",
       "      <td>267.640015</td>\n",
       "      <td>268.339996</td>\n",
       "      <td>267.187500</td>\n",
       "      <td>267.429993</td>\n",
       "      <td>267.429993</td>\n",
       "      <td>1686911</td>\n",
       "    </tr>\n",
       "    <tr>\n",
       "      <th>2023-02-13 09:31:00-05:00</th>\n",
       "      <td>267.429993</td>\n",
       "      <td>268.459991</td>\n",
       "      <td>267.149994</td>\n",
       "      <td>267.582001</td>\n",
       "      <td>267.582001</td>\n",
       "      <td>303844</td>\n",
       "    </tr>\n",
       "    <tr>\n",
       "      <th>2023-02-13 09:32:00-05:00</th>\n",
       "      <td>267.609985</td>\n",
       "      <td>269.000000</td>\n",
       "      <td>267.540009</td>\n",
       "      <td>268.779999</td>\n",
       "      <td>268.779999</td>\n",
       "      <td>380392</td>\n",
       "    </tr>\n",
       "    <tr>\n",
       "      <th>2023-02-13 09:33:00-05:00</th>\n",
       "      <td>268.769989</td>\n",
       "      <td>268.890015</td>\n",
       "      <td>268.010010</td>\n",
       "      <td>268.529999</td>\n",
       "      <td>268.529999</td>\n",
       "      <td>239949</td>\n",
       "    </tr>\n",
       "    <tr>\n",
       "      <th>2023-02-13 09:34:00-05:00</th>\n",
       "      <td>268.524994</td>\n",
       "      <td>269.535004</td>\n",
       "      <td>268.500000</td>\n",
       "      <td>269.089996</td>\n",
       "      <td>269.089996</td>\n",
       "      <td>340502</td>\n",
       "    </tr>\n",
       "    <tr>\n",
       "      <th>...</th>\n",
       "      <td>...</td>\n",
       "      <td>...</td>\n",
       "      <td>...</td>\n",
       "      <td>...</td>\n",
       "      <td>...</td>\n",
       "      <td>...</td>\n",
       "    </tr>\n",
       "    <tr>\n",
       "      <th>2023-02-14 15:55:00-05:00</th>\n",
       "      <td>272.980011</td>\n",
       "      <td>273.220001</td>\n",
       "      <td>272.839996</td>\n",
       "      <td>272.894989</td>\n",
       "      <td>272.894989</td>\n",
       "      <td>161513</td>\n",
       "    </tr>\n",
       "    <tr>\n",
       "      <th>2023-02-14 15:56:00-05:00</th>\n",
       "      <td>272.890015</td>\n",
       "      <td>272.945007</td>\n",
       "      <td>272.660004</td>\n",
       "      <td>272.679993</td>\n",
       "      <td>272.679993</td>\n",
       "      <td>131914</td>\n",
       "    </tr>\n",
       "    <tr>\n",
       "      <th>2023-02-14 15:57:00-05:00</th>\n",
       "      <td>272.670013</td>\n",
       "      <td>272.700012</td>\n",
       "      <td>272.359985</td>\n",
       "      <td>272.429993</td>\n",
       "      <td>272.429993</td>\n",
       "      <td>177605</td>\n",
       "    </tr>\n",
       "    <tr>\n",
       "      <th>2023-02-14 15:58:00-05:00</th>\n",
       "      <td>272.433105</td>\n",
       "      <td>272.450012</td>\n",
       "      <td>272.179993</td>\n",
       "      <td>272.315002</td>\n",
       "      <td>272.315002</td>\n",
       "      <td>245706</td>\n",
       "    </tr>\n",
       "    <tr>\n",
       "      <th>2023-02-14 15:59:00-05:00</th>\n",
       "      <td>272.320007</td>\n",
       "      <td>272.380005</td>\n",
       "      <td>271.920013</td>\n",
       "      <td>272.040009</td>\n",
       "      <td>272.040009</td>\n",
       "      <td>512459</td>\n",
       "    </tr>\n",
       "  </tbody>\n",
       "</table>\n",
       "<p>780 rows × 6 columns</p>\n",
       "</div>"
      ],
      "text/plain": [
       "                                 Open        High         Low       Close  \\\n",
       "Datetime                                                                    \n",
       "2023-02-13 09:30:00-05:00  267.640015  268.339996  267.187500  267.429993   \n",
       "2023-02-13 09:31:00-05:00  267.429993  268.459991  267.149994  267.582001   \n",
       "2023-02-13 09:32:00-05:00  267.609985  269.000000  267.540009  268.779999   \n",
       "2023-02-13 09:33:00-05:00  268.769989  268.890015  268.010010  268.529999   \n",
       "2023-02-13 09:34:00-05:00  268.524994  269.535004  268.500000  269.089996   \n",
       "...                               ...         ...         ...         ...   \n",
       "2023-02-14 15:55:00-05:00  272.980011  273.220001  272.839996  272.894989   \n",
       "2023-02-14 15:56:00-05:00  272.890015  272.945007  272.660004  272.679993   \n",
       "2023-02-14 15:57:00-05:00  272.670013  272.700012  272.359985  272.429993   \n",
       "2023-02-14 15:58:00-05:00  272.433105  272.450012  272.179993  272.315002   \n",
       "2023-02-14 15:59:00-05:00  272.320007  272.380005  271.920013  272.040009   \n",
       "\n",
       "                            Adj Close   Volume  \n",
       "Datetime                                        \n",
       "2023-02-13 09:30:00-05:00  267.429993  1686911  \n",
       "2023-02-13 09:31:00-05:00  267.582001   303844  \n",
       "2023-02-13 09:32:00-05:00  268.779999   380392  \n",
       "2023-02-13 09:33:00-05:00  268.529999   239949  \n",
       "2023-02-13 09:34:00-05:00  269.089996   340502  \n",
       "...                               ...      ...  \n",
       "2023-02-14 15:55:00-05:00  272.894989   161513  \n",
       "2023-02-14 15:56:00-05:00  272.679993   131914  \n",
       "2023-02-14 15:57:00-05:00  272.429993   177605  \n",
       "2023-02-14 15:58:00-05:00  272.315002   245706  \n",
       "2023-02-14 15:59:00-05:00  272.040009   512459  \n",
       "\n",
       "[780 rows x 6 columns]"
      ]
     },
     "execution_count": 39,
     "metadata": {},
     "output_type": "execute_result"
    }
   ],
   "source": [
    "start_date = datetime.datetime(2023, 2, 13)\n",
    "end_date = datetime.datetime(2023, 2, 15)\n",
    "\n",
    "data = yf.download(tickers=\"MSFT\", \n",
    "                       start=start_date.strftime(\"%Y-%m-%d\"), \n",
    "                       end=end_date.strftime(\"%Y-%m-%d\"), \n",
    "                       interval = \"1m\")\n",
    "\n",
    "df_1min = df_1min.append(data)\n",
    "df_1min.to_csv(r\"Datasets/tmp.csv\") \n",
    "data"
   ]
  },
  {
   "cell_type": "code",
   "execution_count": null,
   "id": "b9879c66",
   "metadata": {},
   "outputs": [],
   "source": []
  }
 ],
 "metadata": {
  "kernelspec": {
   "display_name": "Python 3 (ipykernel)",
   "language": "python",
   "name": "python3"
  },
  "language_info": {
   "codemirror_mode": {
    "name": "ipython",
    "version": 3
   },
   "file_extension": ".py",
   "mimetype": "text/x-python",
   "name": "python",
   "nbconvert_exporter": "python",
   "pygments_lexer": "ipython3",
   "version": "3.9.13"
  }
 },
 "nbformat": 4,
 "nbformat_minor": 5
}
