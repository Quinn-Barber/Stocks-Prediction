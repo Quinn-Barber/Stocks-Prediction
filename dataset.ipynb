{
 "cells": [
  {
   "cell_type": "code",
   "execution_count": 1,
   "id": "e2579468",
   "metadata": {},
   "outputs": [],
   "source": [
    "import yfinance as yf\n",
    "import pandas as pd\n",
    "from datetime import date, timedelta"
   ]
  },
  {
   "cell_type": "code",
   "execution_count": 11,
   "id": "316b96cf",
   "metadata": {},
   "outputs": [
    {
     "name": "stdout",
     "output_type": "stream",
     "text": [
      "[*********************100%***********************]  1 of 1 completed\n"
     ]
    },
    {
     "data": {
      "text/html": [
       "<div>\n",
       "<style scoped>\n",
       "    .dataframe tbody tr th:only-of-type {\n",
       "        vertical-align: middle;\n",
       "    }\n",
       "\n",
       "    .dataframe tbody tr th {\n",
       "        vertical-align: top;\n",
       "    }\n",
       "\n",
       "    .dataframe thead th {\n",
       "        text-align: right;\n",
       "    }\n",
       "</style>\n",
       "<table border=\"1\" class=\"dataframe\">\n",
       "  <thead>\n",
       "    <tr style=\"text-align: right;\">\n",
       "      <th></th>\n",
       "      <th>Open</th>\n",
       "      <th>High</th>\n",
       "      <th>Low</th>\n",
       "      <th>Close</th>\n",
       "      <th>Adj Close</th>\n",
       "      <th>Volume</th>\n",
       "    </tr>\n",
       "    <tr>\n",
       "      <th>Datetime</th>\n",
       "      <th></th>\n",
       "      <th></th>\n",
       "      <th></th>\n",
       "      <th></th>\n",
       "      <th></th>\n",
       "      <th></th>\n",
       "    </tr>\n",
       "  </thead>\n",
       "  <tbody>\n",
       "    <tr>\n",
       "      <th>2022-10-07 09:30:00-04:00</th>\n",
       "      <td>239.059998</td>\n",
       "      <td>239.059998</td>\n",
       "      <td>239.059998</td>\n",
       "      <td>239.059998</td>\n",
       "      <td>239.059998</td>\n",
       "      <td>1366366</td>\n",
       "    </tr>\n",
       "    <tr>\n",
       "      <th>2022-10-07 09:31:00-04:00</th>\n",
       "      <td>239.070007</td>\n",
       "      <td>239.169998</td>\n",
       "      <td>238.600006</td>\n",
       "      <td>238.630005</td>\n",
       "      <td>238.630005</td>\n",
       "      <td>180966</td>\n",
       "    </tr>\n",
       "    <tr>\n",
       "      <th>2022-10-07 09:33:00-04:00</th>\n",
       "      <td>238.425003</td>\n",
       "      <td>238.919998</td>\n",
       "      <td>238.369995</td>\n",
       "      <td>238.869995</td>\n",
       "      <td>238.869995</td>\n",
       "      <td>747741</td>\n",
       "    </tr>\n",
       "    <tr>\n",
       "      <th>2022-10-07 09:34:00-04:00</th>\n",
       "      <td>238.000000</td>\n",
       "      <td>238.125000</td>\n",
       "      <td>237.889999</td>\n",
       "      <td>238.125000</td>\n",
       "      <td>238.125000</td>\n",
       "      <td>196080</td>\n",
       "    </tr>\n",
       "    <tr>\n",
       "      <th>2022-10-07 09:35:00-04:00</th>\n",
       "      <td>239.309998</td>\n",
       "      <td>239.330002</td>\n",
       "      <td>239.240005</td>\n",
       "      <td>239.240005</td>\n",
       "      <td>239.240005</td>\n",
       "      <td>266111</td>\n",
       "    </tr>\n",
       "    <tr>\n",
       "      <th>...</th>\n",
       "      <td>...</td>\n",
       "      <td>...</td>\n",
       "      <td>...</td>\n",
       "      <td>...</td>\n",
       "      <td>...</td>\n",
       "      <td>...</td>\n",
       "    </tr>\n",
       "    <tr>\n",
       "      <th>2022-10-17 14:27:00-04:00</th>\n",
       "      <td>237.600006</td>\n",
       "      <td>237.769897</td>\n",
       "      <td>237.559998</td>\n",
       "      <td>237.750000</td>\n",
       "      <td>237.750000</td>\n",
       "      <td>45076</td>\n",
       "    </tr>\n",
       "    <tr>\n",
       "      <th>2022-10-17 14:28:00-04:00</th>\n",
       "      <td>237.750000</td>\n",
       "      <td>237.850006</td>\n",
       "      <td>237.750000</td>\n",
       "      <td>237.837006</td>\n",
       "      <td>237.837006</td>\n",
       "      <td>33837</td>\n",
       "    </tr>\n",
       "    <tr>\n",
       "      <th>2022-10-17 14:29:00-04:00</th>\n",
       "      <td>237.820007</td>\n",
       "      <td>237.820007</td>\n",
       "      <td>237.600006</td>\n",
       "      <td>237.720001</td>\n",
       "      <td>237.720001</td>\n",
       "      <td>31131</td>\n",
       "    </tr>\n",
       "    <tr>\n",
       "      <th>2022-10-17 14:30:00-04:00</th>\n",
       "      <td>237.720001</td>\n",
       "      <td>237.720001</td>\n",
       "      <td>237.590103</td>\n",
       "      <td>237.630005</td>\n",
       "      <td>237.630005</td>\n",
       "      <td>21904</td>\n",
       "    </tr>\n",
       "    <tr>\n",
       "      <th>2022-10-17 14:31:39-04:00</th>\n",
       "      <td>237.550003</td>\n",
       "      <td>237.550003</td>\n",
       "      <td>237.550003</td>\n",
       "      <td>237.550003</td>\n",
       "      <td>237.550003</td>\n",
       "      <td>0</td>\n",
       "    </tr>\n",
       "  </tbody>\n",
       "</table>\n",
       "<p>2632 rows × 6 columns</p>\n",
       "</div>"
      ],
      "text/plain": [
       "                                 Open        High         Low       Close  \\\n",
       "Datetime                                                                    \n",
       "2022-10-07 09:30:00-04:00  239.059998  239.059998  239.059998  239.059998   \n",
       "2022-10-07 09:31:00-04:00  239.070007  239.169998  238.600006  238.630005   \n",
       "2022-10-07 09:33:00-04:00  238.425003  238.919998  238.369995  238.869995   \n",
       "2022-10-07 09:34:00-04:00  238.000000  238.125000  237.889999  238.125000   \n",
       "2022-10-07 09:35:00-04:00  239.309998  239.330002  239.240005  239.240005   \n",
       "...                               ...         ...         ...         ...   \n",
       "2022-10-17 14:27:00-04:00  237.600006  237.769897  237.559998  237.750000   \n",
       "2022-10-17 14:28:00-04:00  237.750000  237.850006  237.750000  237.837006   \n",
       "2022-10-17 14:29:00-04:00  237.820007  237.820007  237.600006  237.720001   \n",
       "2022-10-17 14:30:00-04:00  237.720001  237.720001  237.590103  237.630005   \n",
       "2022-10-17 14:31:39-04:00  237.550003  237.550003  237.550003  237.550003   \n",
       "\n",
       "                            Adj Close   Volume  \n",
       "Datetime                                        \n",
       "2022-10-07 09:30:00-04:00  239.059998  1366366  \n",
       "2022-10-07 09:31:00-04:00  238.630005   180966  \n",
       "2022-10-07 09:33:00-04:00  238.869995   747741  \n",
       "2022-10-07 09:34:00-04:00  238.125000   196080  \n",
       "2022-10-07 09:35:00-04:00  239.240005   266111  \n",
       "...                               ...      ...  \n",
       "2022-10-17 14:27:00-04:00  237.750000    45076  \n",
       "2022-10-17 14:28:00-04:00  237.837006    33837  \n",
       "2022-10-17 14:29:00-04:00  237.720001    31131  \n",
       "2022-10-17 14:30:00-04:00  237.630005    21904  \n",
       "2022-10-17 14:31:39-04:00  237.550003        0  \n",
       "\n",
       "[2632 rows x 6 columns]"
      ]
     },
     "execution_count": 11,
     "metadata": {},
     "output_type": "execute_result"
    }
   ],
   "source": [
    "data = yf.download(tickers = \"MSFT\", period = \"7d\", interval = \"1m\")\n",
    "data"
   ]
  },
  {
   "cell_type": "code",
   "execution_count": 32,
   "id": "12d5a67e",
   "metadata": {},
   "outputs": [
    {
     "name": "stdout",
     "output_type": "stream",
     "text": [
      "start_date: 2022-09-18\n",
      "end_date: 2022-10-17\n",
      "start_date_list:\n",
      "[datetime.date(2022, 9, 18), datetime.date(2022, 9, 25), datetime.date(2022, 10, 2), datetime.date(2022, 10, 9), datetime.date(2022, 10, 16)]\n",
      "end_date_list:\n",
      "[datetime.date(2022, 9, 24), datetime.date(2022, 10, 1), datetime.date(2022, 10, 8), datetime.date(2022, 10, 15), datetime.date(2022, 10, 17)]\n",
      "===========================================================\n",
      "\n",
      "[*********************100%***********************]  1 of 1 completed\n"
     ]
    },
    {
     "name": "stderr",
     "output_type": "stream",
     "text": [
      "C:\\Users\\farha\\AppData\\Local\\Temp\\ipykernel_12892\\949023024.py:28: FutureWarning: The frame.append method is deprecated and will be removed from pandas in a future version. Use pandas.concat instead.\n",
      "  df_1min = df_1min.append(data)\n"
     ]
    },
    {
     "name": "stdout",
     "output_type": "stream",
     "text": [
      "[*********************100%***********************]  1 of 1 completed\n"
     ]
    },
    {
     "name": "stderr",
     "output_type": "stream",
     "text": [
      "C:\\Users\\farha\\AppData\\Local\\Temp\\ipykernel_12892\\949023024.py:28: FutureWarning: The frame.append method is deprecated and will be removed from pandas in a future version. Use pandas.concat instead.\n",
      "  df_1min = df_1min.append(data)\n"
     ]
    },
    {
     "name": "stdout",
     "output_type": "stream",
     "text": [
      "[*********************100%***********************]  1 of 1 completed\n"
     ]
    },
    {
     "name": "stderr",
     "output_type": "stream",
     "text": [
      "C:\\Users\\farha\\AppData\\Local\\Temp\\ipykernel_12892\\949023024.py:28: FutureWarning: The frame.append method is deprecated and will be removed from pandas in a future version. Use pandas.concat instead.\n",
      "  df_1min = df_1min.append(data)\n"
     ]
    },
    {
     "name": "stdout",
     "output_type": "stream",
     "text": [
      "[*********************100%***********************]  1 of 1 completed\n",
      "[*********************100%***********************]  1 of 1 completed\n",
      "\n",
      "1 Failed download:\n",
      "- MSFT: No data found for this date range, symbol may be delisted\n",
      "Data size: 46674\n"
     ]
    },
    {
     "name": "stderr",
     "output_type": "stream",
     "text": [
      "C:\\Users\\farha\\AppData\\Local\\Temp\\ipykernel_12892\\949023024.py:28: FutureWarning: The frame.append method is deprecated and will be removed from pandas in a future version. Use pandas.concat instead.\n",
      "  df_1min = df_1min.append(data)\n",
      "C:\\Users\\farha\\AppData\\Local\\Temp\\ipykernel_12892\\949023024.py:28: FutureWarning: The frame.append method is deprecated and will be removed from pandas in a future version. Use pandas.concat instead.\n",
      "  df_1min = df_1min.append(data)\n"
     ]
    }
   ],
   "source": [
    "# Specify start dates and end dates\n",
    "end_date = date.today()\n",
    "start_date = end_date - timedelta(days=29)\n",
    "\n",
    "print('start_date:', start_date)\n",
    "print('end_date:', end_date)\n",
    "\n",
    "# Start dates\n",
    "start_date_list = [start_date + timedelta(days=7*i) for i in range(5)]\n",
    "print('start_date_list:')\n",
    "print(start_date_list)\n",
    "\n",
    "# End dates\n",
    "end_date_list = [start_date_list[i+1] - timedelta(days=1) for i in range(4)] + [end_date]\n",
    "print('end_date_list:')\n",
    "print(end_date_list)\n",
    "\n",
    "print('===========================================================\\n')\n",
    "\n",
    "# Use for-loop to extract data\n",
    "df_1min = pd.DataFrame({})\n",
    "\n",
    "for idx in range(5):\n",
    "    data = yf.download(tickers=\"MSFT\", \n",
    "                       start=start_date_list[idx].strftime(\"%Y-%m-%d\"), \n",
    "                       end=end_date_list[idx].strftime(\"%Y-%m-%d\"), \n",
    "                       interval = \"1m\")\n",
    "    df_1min = df_1min.append(data)\n",
    "\n",
    "print(\"Data size: \" + str(df_1min.size))\n",
    "\n",
    "# Create a test csv file given a raw path string\n",
    "df_1min.to_csv(r\"STRING HERE\") "
   ]
  }
 ],
 "metadata": {
  "kernelspec": {
   "display_name": "Python 3 (ipykernel)",
   "language": "python",
   "name": "python3"
  },
  "language_info": {
   "codemirror_mode": {
    "name": "ipython",
    "version": 3
   },
   "file_extension": ".py",
   "mimetype": "text/x-python",
   "name": "python",
   "nbconvert_exporter": "python",
   "pygments_lexer": "ipython3",
   "version": "3.9.12"
  }
 },
 "nbformat": 4,
 "nbformat_minor": 5
}
