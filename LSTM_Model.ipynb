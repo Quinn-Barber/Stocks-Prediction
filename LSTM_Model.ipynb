{
 "cells": [
  {
   "cell_type": "code",
   "execution_count": 1,
   "id": "4680488b",
   "metadata": {},
   "outputs": [],
   "source": [
    "import math\n",
    "import matplotlib.pyplot as plt\n",
    "import keras\n",
    "import pandas as pd\n",
    "import numpy as np\n",
    "from keras.models import Sequential\n",
    "from keras.layers import Dense\n",
    "from keras.layers import LSTM\n",
    "from keras.layers import Dropout\n",
    "from keras.layers import *\n",
    "from sklearn.preprocessing import MinMaxScaler\n",
    "from sklearn.metrics import mean_squared_error\n",
    "from sklearn.metrics import mean_absolute_error\n",
    "from sklearn.model_selection import train_test_split\n",
    "from keras.callbacks import EarlyStopping"
   ]
  },
  {
   "cell_type": "code",
   "execution_count": 6,
   "id": "ded5b07c",
   "metadata": {},
   "outputs": [
    {
     "data": {
      "text/html": [
       "<details>\n",
       "<summary>Click to view session information</summary>\n",
       "<pre>\n",
       "-----\n",
       "keras               2.9.0\n",
       "matplotlib          3.5.2\n",
       "numpy               1.23.1\n",
       "pandas              1.4.4\n",
       "session_info        1.0.0\n",
       "sklearn             1.0.2\n",
       "tensorflow          2.9.1\n",
       "-----\n",
       "</pre>\n",
       "<details>\n",
       "<summary>Click to view modules imported as dependencies</summary>\n",
       "<pre>\n",
       "OpenSSL                                     22.0.0\n",
       "PIL                                         9.2.0\n",
       "aa8f2297d25b4dc6fd3d98411eb3ba53823c4f42    NA\n",
       "absl                                        NA\n",
       "asttokens                                   NA\n",
       "astunparse                                  1.6.3\n",
       "backcall                                    0.2.0\n",
       "bcrypt                                      3.2.0\n",
       "beta_ufunc                                  NA\n",
       "binom_ufunc                                 NA\n",
       "boto3                                       1.24.28\n",
       "botocore                                    1.27.28\n",
       "bottleneck                                  1.3.5\n",
       "brotli                                      NA\n",
       "certifi                                     2022.09.24\n",
       "cffi                                        1.15.1\n",
       "chardet                                     4.0.0\n",
       "charset_normalizer                          2.0.4\n",
       "colorama                                    0.4.5\n",
       "cryptography                                37.0.1\n",
       "cycler                                      0.10.0\n",
       "cython_runtime                              NA\n",
       "dateutil                                    2.8.2\n",
       "debugpy                                     1.5.1\n",
       "decorator                                   5.1.1\n",
       "defusedxml                                  0.7.1\n",
       "executing                                   0.8.3\n",
       "flatbuffers                                 2.0\n",
       "fsspec                                      2022.7.1\n",
       "gast                                        0.5.3\n",
       "google                                      NA\n",
       "h5py                                        3.7.0\n",
       "idna                                        3.3\n",
       "importlib_metadata                          NA\n",
       "ipykernel                                   6.15.2\n",
       "ipython_genutils                            0.2.0\n",
       "jedi                                        0.18.1\n",
       "jmespath                                    0.10.0\n",
       "joblib                                      1.1.0\n",
       "jupyter_server                              1.18.1\n",
       "kiwisolver                                  1.4.2\n",
       "lz4                                         3.1.3\n",
       "mkl                                         2.4.0\n",
       "mpl_toolkits                                NA\n",
       "nbinom_ufunc                                NA\n",
       "nt                                          NA\n",
       "ntsecuritycon                               NA\n",
       "numexpr                                     2.8.3\n",
       "opt_einsum                                  v3.3.0\n",
       "packaging                                   21.3\n",
       "parso                                       0.8.3\n",
       "pickleshare                                 0.7.5\n",
       "pkg_resources                               NA\n",
       "prompt_toolkit                              3.0.20\n",
       "psutil                                      5.9.0\n",
       "pure_eval                                   0.2.2\n",
       "pydev_ipython                               NA\n",
       "pydevconsole                                NA\n",
       "pydevd                                      2.6.0\n",
       "pydevd_concurrency_analyser                 NA\n",
       "pydevd_file_utils                           NA\n",
       "pydevd_plugins                              NA\n",
       "pydevd_tracing                              NA\n",
       "pygments                                    2.11.2\n",
       "pyparsing                                   3.0.9\n",
       "pythoncom                                   NA\n",
       "pytz                                        2022.1\n",
       "pywintypes                                  NA\n",
       "requests                                    2.28.1\n",
       "scipy                                       1.7.3\n",
       "setuptools                                  63.4.1\n",
       "six                                         1.16.0\n",
       "snappy                                      NA\n",
       "socks                                       1.7.1\n",
       "sphinxcontrib                               NA\n",
       "stack_data                                  0.2.0\n",
       "tblib                                       1.7.0\n",
       "tensorboard                                 2.9.0\n",
       "termcolor                                   NA\n",
       "threadpoolctl                               2.2.0\n",
       "tornado                                     6.1\n",
       "traitlets                                   5.1.1\n",
       "typing_extensions                           NA\n",
       "urllib3                                     1.26.11\n",
       "wcwidth                                     0.2.5\n",
       "win32api                                    NA\n",
       "win32com                                    NA\n",
       "win32security                               NA\n",
       "wrapt                                       1.12.1\n",
       "zipp                                        NA\n",
       "zmq                                         23.2.0\n",
       "zope                                        NA\n",
       "</pre>\n",
       "</details> <!-- seems like this ends pre, so might as well be explicit -->\n",
       "<pre>\n",
       "-----\n",
       "IPython             8.4.0\n",
       "jupyter_client      6.1.12\n",
       "jupyter_core        4.11.1\n",
       "jupyterlab          3.4.4\n",
       "notebook            6.4.12\n",
       "-----\n",
       "Python 3.9.12 (main, Apr  4 2022, 05:22:27) [MSC v.1916 64 bit (AMD64)]\n",
       "Windows-10-10.0.19044-SP0\n",
       "-----\n",
       "Session information updated at 2022-12-28 23:23\n",
       "</pre>\n",
       "</details>"
      ],
      "text/plain": [
       "<IPython.core.display.HTML object>"
      ]
     },
     "execution_count": 6,
     "metadata": {},
     "output_type": "execute_result"
    }
   ],
   "source": [
    "import session_info\n",
    "session_info.show()"
   ]
  },
  {
   "cell_type": "code",
   "execution_count": 2,
   "id": "2ff12fa6",
   "metadata": {},
   "outputs": [
    {
     "name": "stdout",
     "output_type": "stream",
     "text": [
      "Number of rows and columns: (14815, 7)\n"
     ]
    },
    {
     "data": {
      "text/html": [
       "<div>\n",
       "<style scoped>\n",
       "    .dataframe tbody tr th:only-of-type {\n",
       "        vertical-align: middle;\n",
       "    }\n",
       "\n",
       "    .dataframe tbody tr th {\n",
       "        vertical-align: top;\n",
       "    }\n",
       "\n",
       "    .dataframe thead th {\n",
       "        text-align: right;\n",
       "    }\n",
       "</style>\n",
       "<table border=\"1\" class=\"dataframe\">\n",
       "  <thead>\n",
       "    <tr style=\"text-align: right;\">\n",
       "      <th></th>\n",
       "      <th>Date</th>\n",
       "      <th>Open</th>\n",
       "      <th>High</th>\n",
       "      <th>Low</th>\n",
       "      <th>Close</th>\n",
       "      <th>Adj Close</th>\n",
       "      <th>Volume</th>\n",
       "    </tr>\n",
       "  </thead>\n",
       "  <tbody>\n",
       "    <tr>\n",
       "      <th>14810</th>\n",
       "      <td>2023-03-10 15:55:00-05:00</td>\n",
       "      <td>248.429993</td>\n",
       "      <td>248.470001</td>\n",
       "      <td>248.250000</td>\n",
       "      <td>248.330002</td>\n",
       "      <td>248.330002</td>\n",
       "      <td>115217</td>\n",
       "    </tr>\n",
       "    <tr>\n",
       "      <th>14811</th>\n",
       "      <td>2023-03-10 15:56:00-05:00</td>\n",
       "      <td>248.320007</td>\n",
       "      <td>248.330002</td>\n",
       "      <td>248.080002</td>\n",
       "      <td>248.132004</td>\n",
       "      <td>248.132004</td>\n",
       "      <td>109871</td>\n",
       "    </tr>\n",
       "    <tr>\n",
       "      <th>14812</th>\n",
       "      <td>2023-03-10 15:57:00-05:00</td>\n",
       "      <td>248.130005</td>\n",
       "      <td>248.630005</td>\n",
       "      <td>248.100006</td>\n",
       "      <td>248.619995</td>\n",
       "      <td>248.619995</td>\n",
       "      <td>194069</td>\n",
       "    </tr>\n",
       "    <tr>\n",
       "      <th>14813</th>\n",
       "      <td>2023-03-10 15:58:00-05:00</td>\n",
       "      <td>248.630005</td>\n",
       "      <td>248.740005</td>\n",
       "      <td>248.539993</td>\n",
       "      <td>248.690002</td>\n",
       "      <td>248.690002</td>\n",
       "      <td>188402</td>\n",
       "    </tr>\n",
       "    <tr>\n",
       "      <th>14814</th>\n",
       "      <td>2023-03-10 15:59:00-05:00</td>\n",
       "      <td>248.690002</td>\n",
       "      <td>248.740005</td>\n",
       "      <td>248.389999</td>\n",
       "      <td>248.600006</td>\n",
       "      <td>248.600006</td>\n",
       "      <td>316896</td>\n",
       "    </tr>\n",
       "  </tbody>\n",
       "</table>\n",
       "</div>"
      ],
      "text/plain": [
       "                            Date        Open        High         Low  \\\n",
       "14810  2023-03-10 15:55:00-05:00  248.429993  248.470001  248.250000   \n",
       "14811  2023-03-10 15:56:00-05:00  248.320007  248.330002  248.080002   \n",
       "14812  2023-03-10 15:57:00-05:00  248.130005  248.630005  248.100006   \n",
       "14813  2023-03-10 15:58:00-05:00  248.630005  248.740005  248.539993   \n",
       "14814  2023-03-10 15:59:00-05:00  248.690002  248.740005  248.389999   \n",
       "\n",
       "            Close   Adj Close  Volume  \n",
       "14810  248.330002  248.330002  115217  \n",
       "14811  248.132004  248.132004  109871  \n",
       "14812  248.619995  248.619995  194069  \n",
       "14813  248.690002  248.690002  188402  \n",
       "14814  248.600006  248.600006  316896  "
      ]
     },
     "execution_count": 2,
     "metadata": {},
     "output_type": "execute_result"
    }
   ],
   "source": [
    "# Import dataset\n",
    "df = pd.read_csv(\"Datasets/MSFT_2023-01-13.csv\")\n",
    "print(\"Number of rows and columns:\", df.shape)\n",
    "df.tail(5)"
   ]
  },
  {
   "cell_type": "code",
   "execution_count": 3,
   "id": "711cff63",
   "metadata": {},
   "outputs": [],
   "source": [
    "# Import model\n",
    "model = keras.models.load_model('Models/03-13-2023')"
   ]
  },
  {
   "cell_type": "code",
   "execution_count": 3,
   "id": "49abeb9e",
   "metadata": {},
   "outputs": [
    {
     "name": "stdout",
     "output_type": "stream",
     "text": [
      "(11000, 4)\n",
      "(3815, 4)\n"
     ]
    }
   ],
   "source": [
    "# Train test split\n",
    "# 1: Open, 2: High, 3: Low, 4: Close\n",
    "training_set = df.iloc[:11000, 1:5].values\n",
    "test_set = df.iloc[11000:, 1:5].values\n",
    "\n",
    "print(training_set.shape)\n",
    "print(test_set.shape)"
   ]
  },
  {
   "cell_type": "code",
   "execution_count": 4,
   "id": "8d3c71de",
   "metadata": {},
   "outputs": [
    {
     "data": {
      "text/plain": [
       "(10940, 60, 4)"
      ]
     },
     "execution_count": 4,
     "metadata": {},
     "output_type": "execute_result"
    }
   ],
   "source": [
    "# Feature Scaling\n",
    "sc = MinMaxScaler(feature_range = (0, 1))\n",
    "training_set_scaled = sc.fit_transform(training_set)\n",
    "# print(training_set_scaled.shape)\n",
    "# Creating a data structure with 60 time-steps and 1 output\n",
    "X_train = []\n",
    "y_train = []\n",
    "for i in range(60, 11000):\n",
    "    X_train.append(training_set_scaled[i-60:i, 0:4])\n",
    "    y_train.append(training_set_scaled[i, 0:4])\n",
    "X_train, y_train = np.array(X_train), np.array(y_train)\n",
    "X_train = np.reshape(X_train, (X_train.shape[0], X_train.shape[1], 4))\n",
    "#(840, 60, 1)\n",
    "X_train.shape"
   ]
  },
  {
   "cell_type": "code",
   "execution_count": 5,
   "id": "f8542554",
   "metadata": {},
   "outputs": [
    {
     "name": "stdout",
     "output_type": "stream",
     "text": [
      "Epoch 1/100\n",
      "342/342 [==============================] - 71s 181ms/step - loss: 0.0105\n",
      "Epoch 2/100\n",
      "342/342 [==============================] - 55s 162ms/step - loss: 0.0039\n",
      "Epoch 3/100\n",
      "342/342 [==============================] - 59s 171ms/step - loss: 0.0025\n",
      "Epoch 4/100\n",
      "342/342 [==============================] - 52s 151ms/step - loss: 0.0022\n",
      "Epoch 5/100\n",
      "342/342 [==============================] - 59s 173ms/step - loss: 0.0017\n",
      "Epoch 6/100\n",
      "342/342 [==============================] - 60s 174ms/step - loss: 0.0016\n",
      "Epoch 7/100\n",
      "342/342 [==============================] - 59s 173ms/step - loss: 0.0013\n",
      "Epoch 8/100\n",
      "342/342 [==============================] - 61s 177ms/step - loss: 0.0013\n",
      "Epoch 9/100\n",
      "342/342 [==============================] - 63s 184ms/step - loss: 0.0011\n",
      "Epoch 10/100\n",
      "342/342 [==============================] - 63s 185ms/step - loss: 9.9325e-04\n",
      "Epoch 11/100\n",
      "342/342 [==============================] - 61s 179ms/step - loss: 9.0867e-04\n",
      "Epoch 12/100\n",
      "342/342 [==============================] - 63s 183ms/step - loss: 8.6697e-04\n",
      "Epoch 13/100\n",
      "342/342 [==============================] - 61s 179ms/step - loss: 8.3665e-04\n",
      "Epoch 14/100\n",
      "342/342 [==============================] - 62s 180ms/step - loss: 7.9143e-04\n",
      "Epoch 15/100\n",
      "342/342 [==============================] - 65s 190ms/step - loss: 7.3826e-04\n",
      "Epoch 16/100\n",
      "342/342 [==============================] - 65s 190ms/step - loss: 7.2569e-04\n",
      "Epoch 17/100\n",
      "342/342 [==============================] - 66s 192ms/step - loss: 7.2400e-04\n",
      "Epoch 18/100\n",
      "342/342 [==============================] - 61s 178ms/step - loss: 6.9815e-04\n",
      "Epoch 19/100\n",
      "342/342 [==============================] - 61s 178ms/step - loss: 6.8226e-04\n",
      "Epoch 20/100\n",
      "342/342 [==============================] - 62s 181ms/step - loss: 6.5033e-04\n",
      "Epoch 21/100\n",
      "342/342 [==============================] - 61s 179ms/step - loss: 6.2743e-04\n",
      "Epoch 22/100\n",
      "342/342 [==============================] - 58s 169ms/step - loss: 6.6023e-04\n",
      "Epoch 23/100\n",
      "342/342 [==============================] - 59s 173ms/step - loss: 5.9599e-04\n",
      "Epoch 24/100\n",
      "342/342 [==============================] - 60s 174ms/step - loss: 6.3628e-04\n",
      "Epoch 25/100\n",
      "342/342 [==============================] - 62s 181ms/step - loss: 5.9247e-04\n",
      "Epoch 26/100\n",
      "342/342 [==============================] - 65s 188ms/step - loss: 5.5558e-04\n",
      "Epoch 27/100\n",
      "342/342 [==============================] - 59s 173ms/step - loss: 6.0064e-04\n",
      "Epoch 28/100\n",
      "342/342 [==============================] - 62s 181ms/step - loss: 5.8048e-04\n",
      "Epoch 29/100\n",
      "342/342 [==============================] - 62s 180ms/step - loss: 5.8320e-04\n",
      "Epoch 30/100\n",
      "342/342 [==============================] - 66s 193ms/step - loss: 5.4132e-04\n",
      "Epoch 31/100\n",
      "342/342 [==============================] - 62s 181ms/step - loss: 5.5289e-04\n",
      "Epoch 32/100\n",
      "342/342 [==============================] - 64s 187ms/step - loss: 5.5185e-04\n",
      "Epoch 33/100\n",
      "342/342 [==============================] - 63s 184ms/step - loss: 5.5126e-04\n",
      "Epoch 34/100\n",
      "342/342 [==============================] - 62s 181ms/step - loss: 5.2543e-04\n",
      "Epoch 35/100\n",
      "342/342 [==============================] - 66s 194ms/step - loss: 5.3308e-04\n",
      "Epoch 36/100\n",
      "342/342 [==============================] - 62s 180ms/step - loss: 5.3795e-04\n",
      "Epoch 37/100\n",
      "342/342 [==============================] - 51s 150ms/step - loss: 5.1514e-04\n",
      "Epoch 38/100\n",
      "342/342 [==============================] - 66s 193ms/step - loss: 5.1849e-04\n",
      "Epoch 39/100\n",
      "342/342 [==============================] - 61s 180ms/step - loss: 5.2583e-04\n",
      "Epoch 40/100\n",
      "342/342 [==============================] - 64s 188ms/step - loss: 5.3116e-04\n",
      "Epoch 41/100\n",
      "342/342 [==============================] - 61s 179ms/step - loss: 5.1119e-04\n",
      "Epoch 42/100\n",
      "342/342 [==============================] - 57s 167ms/step - loss: 5.1928e-04\n",
      "Epoch 43/100\n",
      "342/342 [==============================] - 58s 169ms/step - loss: 5.0247e-04\n",
      "Epoch 44/100\n",
      "342/342 [==============================] - 58s 170ms/step - loss: 5.1887e-04\n",
      "Epoch 45/100\n",
      "342/342 [==============================] - 55s 162ms/step - loss: 5.0924e-04\n",
      "Epoch 46/100\n",
      "342/342 [==============================] - 58s 169ms/step - loss: 5.0777e-04\n",
      "Epoch 47/100\n",
      "342/342 [==============================] - 59s 172ms/step - loss: 5.1995e-04\n",
      "Epoch 48/100\n",
      "342/342 [==============================] - 58s 169ms/step - loss: 4.8524e-04\n",
      "Epoch 49/100\n",
      "342/342 [==============================] - 59s 171ms/step - loss: 4.6898e-04\n",
      "Epoch 50/100\n",
      "342/342 [==============================] - 58s 170ms/step - loss: 5.1394e-04\n",
      "Epoch 51/100\n",
      "342/342 [==============================] - 58s 170ms/step - loss: 4.7533e-04\n",
      "Epoch 52/100\n",
      "342/342 [==============================] - 59s 171ms/step - loss: 4.9842e-04\n",
      "Epoch 53/100\n",
      "342/342 [==============================] - 55s 162ms/step - loss: 4.7743e-04\n",
      "Epoch 54/100\n",
      "342/342 [==============================] - 58s 171ms/step - loss: 5.0513e-04\n",
      "Epoch 55/100\n",
      "342/342 [==============================] - 57s 168ms/step - loss: 4.8709e-04\n",
      "Epoch 56/100\n",
      "342/342 [==============================] - 59s 173ms/step - loss: 5.1237e-04\n",
      "Epoch 57/100\n",
      "342/342 [==============================] - 60s 175ms/step - loss: 4.5777e-04\n",
      "Epoch 58/100\n",
      "342/342 [==============================] - 57s 168ms/step - loss: 4.8796e-04\n",
      "Epoch 59/100\n",
      "342/342 [==============================] - 58s 170ms/step - loss: 4.8517e-04\n",
      "Epoch 60/100\n",
      "342/342 [==============================] - 68s 198ms/step - loss: 5.0072e-04\n",
      "Epoch 61/100\n",
      "342/342 [==============================] - 63s 184ms/step - loss: 4.7179e-04\n",
      "Epoch 62/100\n",
      "342/342 [==============================] - 60s 177ms/step - loss: 4.7960e-04\n",
      "Epoch 63/100\n",
      "342/342 [==============================] - 58s 170ms/step - loss: 4.6575e-04\n",
      "Epoch 64/100\n",
      "342/342 [==============================] - 58s 171ms/step - loss: 4.6619e-04\n",
      "Epoch 65/100\n",
      "342/342 [==============================] - 58s 169ms/step - loss: 4.6256e-04\n",
      "Epoch 66/100\n",
      "342/342 [==============================] - 57s 168ms/step - loss: 4.7090e-04\n",
      "Epoch 67/100\n",
      "342/342 [==============================] - 58s 168ms/step - loss: 4.6214e-04\n",
      "Epoch 68/100\n",
      "342/342 [==============================] - 60s 176ms/step - loss: 4.6820e-04\n",
      "Epoch 69/100\n",
      "342/342 [==============================] - 57s 167ms/step - loss: 4.8850e-04\n",
      "Epoch 70/100\n",
      "342/342 [==============================] - 57s 168ms/step - loss: 4.6788e-04\n",
      "Epoch 71/100\n",
      "342/342 [==============================] - 58s 171ms/step - loss: 4.5834e-04\n",
      "Epoch 72/100\n",
      "342/342 [==============================] - 57s 168ms/step - loss: 4.7386e-04\n",
      "Epoch 73/100\n",
      "342/342 [==============================] - 59s 173ms/step - loss: 4.5748e-04\n",
      "Epoch 74/100\n",
      "342/342 [==============================] - 57s 167ms/step - loss: 4.8774e-04\n",
      "Epoch 75/100\n",
      "342/342 [==============================] - 57s 167ms/step - loss: 4.8718e-04\n",
      "Epoch 76/100\n",
      "342/342 [==============================] - 60s 176ms/step - loss: 4.4233e-04\n",
      "Epoch 77/100\n",
      "342/342 [==============================] - 58s 168ms/step - loss: 4.7048e-04\n",
      "Epoch 78/100\n",
      "342/342 [==============================] - 59s 172ms/step - loss: 4.5467e-04\n",
      "Epoch 79/100\n",
      "342/342 [==============================] - 59s 173ms/step - loss: 4.6832e-04\n",
      "Epoch 80/100\n",
      "342/342 [==============================] - 62s 181ms/step - loss: 4.6110e-04\n",
      "Epoch 81/100\n",
      "342/342 [==============================] - 60s 176ms/step - loss: 4.5847e-04\n",
      "Epoch 82/100\n",
      "342/342 [==============================] - 62s 180ms/step - loss: 4.5106e-04\n",
      "Epoch 83/100\n",
      "342/342 [==============================] - 61s 179ms/step - loss: 4.5988e-04\n",
      "Epoch 84/100\n",
      "342/342 [==============================] - 63s 185ms/step - loss: 4.5782e-04\n",
      "Epoch 85/100\n",
      "342/342 [==============================] - 62s 181ms/step - loss: 4.5198e-04\n",
      "Epoch 86/100\n",
      "342/342 [==============================] - 67s 196ms/step - loss: 4.4379e-04\n",
      "Epoch 87/100\n",
      "342/342 [==============================] - 73s 215ms/step - loss: 4.6033e-04\n",
      "Epoch 88/100\n",
      "342/342 [==============================] - 74s 217ms/step - loss: 4.6125e-04\n",
      "Epoch 89/100\n",
      "342/342 [==============================] - 55s 160ms/step - loss: 4.5438e-04\n",
      "Epoch 90/100\n",
      "342/342 [==============================] - 40s 116ms/step - loss: 4.5034e-04\n",
      "Epoch 91/100\n",
      "342/342 [==============================] - 47s 138ms/step - loss: 4.4465e-04\n",
      "Epoch 92/100\n"
     ]
    },
    {
     "name": "stdout",
     "output_type": "stream",
     "text": [
      "342/342 [==============================] - 45s 133ms/step - loss: 4.3767e-04\n",
      "Epoch 93/100\n",
      "342/342 [==============================] - 49s 142ms/step - loss: 4.3464e-04\n",
      "Epoch 94/100\n",
      "342/342 [==============================] - 62s 182ms/step - loss: 4.7505e-04\n",
      "Epoch 95/100\n",
      "342/342 [==============================] - 60s 177ms/step - loss: 4.4159e-04\n",
      "Epoch 96/100\n",
      "342/342 [==============================] - 61s 177ms/step - loss: 4.3804e-04\n",
      "Epoch 97/100\n",
      "342/342 [==============================] - 60s 175ms/step - loss: 4.5921e-04\n",
      "Epoch 98/100\n",
      "342/342 [==============================] - 62s 181ms/step - loss: 4.5544e-04\n",
      "Epoch 99/100\n",
      "342/342 [==============================] - 61s 179ms/step - loss: 4.4039e-04\n",
      "Epoch 100/100\n",
      "342/342 [==============================] - 59s 173ms/step - loss: 4.3354e-04\n"
     ]
    },
    {
     "data": {
      "text/plain": [
       "<keras.callbacks.History at 0x220d9c14490>"
      ]
     },
     "execution_count": 5,
     "metadata": {},
     "output_type": "execute_result"
    }
   ],
   "source": [
    "model = Sequential()\n",
    "#Adding the first LSTM layer and some Dropout regularisation\n",
    "model.add(LSTM(units = 50, return_sequences = True, input_shape = (X_train.shape[1], 4)))\n",
    "model.add(Dropout(0.2))\n",
    "# Adding a second LSTM layer and some Dropout regularisation\n",
    "model.add(LSTM(units = 50, return_sequences = True))\n",
    "model.add(Dropout(0.2))\n",
    "# Adding a third LSTM layer and some Dropout regularisation\n",
    "model.add(LSTM(units = 50, return_sequences = True))\n",
    "model.add(Dropout(0.2))\n",
    "# Adding a fourth LSTM layer and some Dropout regularisation\n",
    "model.add(LSTM(units = 50))\n",
    "model.add(Dropout(0.2))\n",
    "# Adding the output layer\n",
    "model.add(Dense(units = 4))\n",
    "\n",
    "# Compiling the RNN\n",
    "model.compile(optimizer = 'adam', loss = 'mean_squared_error')\n",
    "\n",
    "# Fitting the RNN to the Training set\n",
    "model.fit(X_train, y_train, epochs = 100, batch_size = 32)"
   ]
  },
  {
   "cell_type": "code",
   "execution_count": 6,
   "id": "70138b3f",
   "metadata": {},
   "outputs": [
    {
     "name": "stderr",
     "output_type": "stream",
     "text": [
      "WARNING:absl:Found untraced functions such as _update_step_xla, lstm_cell_layer_call_fn, lstm_cell_layer_call_and_return_conditional_losses, lstm_cell_1_layer_call_fn, lstm_cell_1_layer_call_and_return_conditional_losses while saving (showing 5 of 9). These functions will not be directly callable after loading.\n"
     ]
    },
    {
     "name": "stdout",
     "output_type": "stream",
     "text": [
      "INFO:tensorflow:Assets written to: Models/03-13-2023\\assets\n"
     ]
    },
    {
     "name": "stderr",
     "output_type": "stream",
     "text": [
      "INFO:tensorflow:Assets written to: Models/03-13-2023\\assets\n"
     ]
    }
   ],
   "source": [
    "# Save the model\n",
    "model.save('Models/03-13-2023')"
   ]
  },
  {
   "cell_type": "code",
   "execution_count": 8,
   "id": "cca6fd4d",
   "metadata": {},
   "outputs": [
    {
     "name": "stdout",
     "output_type": "stream",
     "text": [
      "(3815, 60, 4)\n"
     ]
    },
    {
     "data": {
      "text/plain": [
       "(3815, 60, 4)"
      ]
     },
     "execution_count": 8,
     "metadata": {},
     "output_type": "execute_result"
    }
   ],
   "source": [
    "dataset_train = df.iloc[:11000, 1:5]\n",
    "dataset_test = df.iloc[11000:, 1:5]\n",
    "dataset_total = pd.concat((dataset_train, dataset_test), axis = 0)\n",
    "inputs = dataset_total[len(dataset_total) - len(dataset_test) - 60:].to_numpy()\n",
    "inputs = inputs.reshape(-1,4)\n",
    "inputs = sc.transform(inputs)\n",
    "X_test = []\n",
    "for i in range(60, 3875):\n",
    "    X_test.append(inputs[i-60:i])\n",
    "X_test = np.array(X_test)\n",
    "X_test = np.reshape(X_test, (X_test.shape[0], X_test.shape[1], 4))\n",
    "print(X_test.shape)\n",
    "# (300, 60, 1)\n",
    "X_test.shape"
   ]
  },
  {
   "cell_type": "code",
   "execution_count": 9,
   "id": "6dcf8c44",
   "metadata": {},
   "outputs": [
    {
     "name": "stdout",
     "output_type": "stream",
     "text": [
      "120/120 [==============================] - 5s 33ms/step\n"
     ]
    },
    {
     "data": {
      "text/plain": [
       "(3815, 4)"
      ]
     },
     "execution_count": 9,
     "metadata": {},
     "output_type": "execute_result"
    }
   ],
   "source": [
    "predicted_stock_price = model.predict(X_test)\n",
    "predicted_stock_price = sc.inverse_transform(predicted_stock_price)\n",
    "predicted_stock_price.shape"
   ]
  },
  {
   "cell_type": "code",
   "execution_count": 8,
   "id": "fa5cf56b",
   "metadata": {},
   "outputs": [
    {
     "data": {
      "text/plain": [
       "(2333,)"
      ]
     },
     "execution_count": 8,
     "metadata": {},
     "output_type": "execute_result"
    }
   ],
   "source": [
    "predicted_stock_price[0: , 0].shape"
   ]
  },
  {
   "cell_type": "code",
   "execution_count": 11,
   "id": "4bc8cf82",
   "metadata": {},
   "outputs": [
    {
     "data": {
      "image/png": "[encoded data removed]",
      "text/plain": [
       "<Figure size 640x480 with 1 Axes>"
      ]
     },
     "metadata": {},
     "output_type": "display_data"
    }
   ],
   "source": [
    "# Visualising the results\n",
    "dfloc = df.loc[11000:, 'Date']\n",
    "\n",
    "plt.plot(dfloc.str[5:16],dataset_test.Open.values, color = 'red', label = 'Real Microsoft Open Price')\n",
    "plt.plot(dfloc.str[5:16],predicted_stock_price[0: , 0], color = 'blue', label = 'Predicted Microsoft Open Price')\n",
    "\n",
    "plt.xticks(np.arange(0,2500,150), rotation=45)\n",
    "plt.title('Microsoft Stock Price Prediction')\n",
    "plt.xlabel('Time')\n",
    "plt.ylabel('Microsoft Stock Price')\n",
    "plt.legend()\n",
    "plt.show()"
   ]
  },
  {
   "cell_type": "code",
   "execution_count": 12,
   "id": "a465ed73",
   "metadata": {},
   "outputs": [],
   "source": [
    "# Download predicted values into csv\n",
    "predicted_prices_df = pd.DataFrame(predicted_stock_price, columns = ['Open','High','Low', 'Close'])\n",
    "predicted_prices_df.to_csv (r'C:\\Users\\kayra\\OneDrive\\Desktop\\Stonks 2022\\Stocks-Prediction\\Predictions\\3-13-2023 Combined Model Price Prediction.csv', index = False, header=True)"
   ]
  },
  {
   "cell_type": "code",
   "execution_count": null,
   "id": "e8327c04",
   "metadata": {},
   "outputs": [],
   "source": []
  }
 ],
 "metadata": {
  "kernelspec": {
   "display_name": "Python 3 (ipykernel)",
   "language": "python",
   "name": "python3"
  },
  "language_info": {
   "codemirror_mode": {
    "name": "ipython",
    "version": 3
   },
   "file_extension": ".py",
   "mimetype": "text/x-python",
   "name": "python",
   "nbconvert_exporter": "python",
   "pygments_lexer": "ipython3",
   "version": "3.9.13"
  }
 },
 "nbformat": 4,
 "nbformat_minor": 5
}
