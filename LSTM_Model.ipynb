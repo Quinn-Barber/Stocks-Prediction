{
 "cells": [
  {
   "cell_type": "code",
   "execution_count": 1,
   "id": "4680488b",
   "metadata": {},
   "outputs": [
    {
     "name": "stderr",
     "output_type": "stream",
     "text": [
      "C:\\Users\\kayra\\anaconda3\\lib\\site-packages\\scipy\\__init__.py:146: UserWarning: A NumPy version >=1.16.5 and <1.23.0 is required for this version of SciPy (detected version 1.23.1\n",
      "  warnings.warn(f\"A NumPy version >={np_minversion} and <{np_maxversion}\"\n"
     ]
    }
   ],
   "source": [
    "import math\n",
    "import matplotlib.pyplot as plt\n",
    "import keras\n",
    "import pandas as pd\n",
    "import numpy as np\n",
    "from keras.models import Sequential\n",
    "from keras.layers import Dense\n",
    "from keras.layers import LSTM\n",
    "from keras.layers import Dropout\n",
    "from keras.layers import *\n",
    "from sklearn.preprocessing import MinMaxScaler\n",
    "from sklearn.metrics import mean_squared_error\n",
    "from sklearn.metrics import mean_absolute_error\n",
    "from sklearn.model_selection import train_test_split\n",
    "from keras.callbacks import EarlyStopping"
   ]
  },
  {
   "cell_type": "code",
   "execution_count": 2,
   "id": "2ff12fa6",
   "metadata": {},
   "outputs": [
    {
     "name": "stdout",
     "output_type": "stream",
     "text": [
      "Number of rows and columns: (7779, 7)\n"
     ]
    },
    {
     "data": {
      "text/html": [
       "<div>\n",
       "<style scoped>\n",
       "    .dataframe tbody tr th:only-of-type {\n",
       "        vertical-align: middle;\n",
       "    }\n",
       "\n",
       "    .dataframe tbody tr th {\n",
       "        vertical-align: top;\n",
       "    }\n",
       "\n",
       "    .dataframe thead th {\n",
       "        text-align: right;\n",
       "    }\n",
       "</style>\n",
       "<table border=\"1\" class=\"dataframe\">\n",
       "  <thead>\n",
       "    <tr style=\"text-align: right;\">\n",
       "      <th></th>\n",
       "      <th>Unnamed: 0</th>\n",
       "      <th>Open</th>\n",
       "      <th>High</th>\n",
       "      <th>Low</th>\n",
       "      <th>Close</th>\n",
       "      <th>Adj Close</th>\n",
       "      <th>Volume</th>\n",
       "    </tr>\n",
       "  </thead>\n",
       "  <tbody>\n",
       "    <tr>\n",
       "      <th>0</th>\n",
       "      <td>2022-09-19 09:30:00-04:00</td>\n",
       "      <td>242.464996</td>\n",
       "      <td>242.479996</td>\n",
       "      <td>242.000000</td>\n",
       "      <td>242.136002</td>\n",
       "      <td>242.136002</td>\n",
       "      <td>677274.0</td>\n",
       "    </tr>\n",
       "    <tr>\n",
       "      <th>1</th>\n",
       "      <td>2022-09-19 09:31:00-04:00</td>\n",
       "      <td>242.190002</td>\n",
       "      <td>242.589996</td>\n",
       "      <td>242.100006</td>\n",
       "      <td>242.544998</td>\n",
       "      <td>242.544998</td>\n",
       "      <td>81735.0</td>\n",
       "    </tr>\n",
       "    <tr>\n",
       "      <th>2</th>\n",
       "      <td>2022-09-19 09:32:00-04:00</td>\n",
       "      <td>242.315002</td>\n",
       "      <td>242.519104</td>\n",
       "      <td>242.190094</td>\n",
       "      <td>242.464996</td>\n",
       "      <td>242.464996</td>\n",
       "      <td>178308.0</td>\n",
       "    </tr>\n",
       "    <tr>\n",
       "      <th>3</th>\n",
       "      <td>2022-09-19 09:33:00-04:00</td>\n",
       "      <td>242.479996</td>\n",
       "      <td>242.615005</td>\n",
       "      <td>242.229996</td>\n",
       "      <td>242.399994</td>\n",
       "      <td>242.399994</td>\n",
       "      <td>22108.0</td>\n",
       "    </tr>\n",
       "    <tr>\n",
       "      <th>4</th>\n",
       "      <td>2022-09-19 09:34:00-04:00</td>\n",
       "      <td>242.169998</td>\n",
       "      <td>242.589798</td>\n",
       "      <td>242.169998</td>\n",
       "      <td>242.361206</td>\n",
       "      <td>242.361206</td>\n",
       "      <td>148771.0</td>\n",
       "    </tr>\n",
       "  </tbody>\n",
       "</table>\n",
       "</div>"
      ],
      "text/plain": [
       "                  Unnamed: 0        Open        High         Low       Close  \\\n",
       "0  2022-09-19 09:30:00-04:00  242.464996  242.479996  242.000000  242.136002   \n",
       "1  2022-09-19 09:31:00-04:00  242.190002  242.589996  242.100006  242.544998   \n",
       "2  2022-09-19 09:32:00-04:00  242.315002  242.519104  242.190094  242.464996   \n",
       "3  2022-09-19 09:33:00-04:00  242.479996  242.615005  242.229996  242.399994   \n",
       "4  2022-09-19 09:34:00-04:00  242.169998  242.589798  242.169998  242.361206   \n",
       "\n",
       "    Adj Close    Volume  \n",
       "0  242.136002  677274.0  \n",
       "1  242.544998   81735.0  \n",
       "2  242.464996  178308.0  \n",
       "3  242.399994   22108.0  \n",
       "4  242.361206  148771.0  "
      ]
     },
     "execution_count": 2,
     "metadata": {},
     "output_type": "execute_result"
    }
   ],
   "source": [
    "df = pd.read_csv(\"dataset (MSFT).csv\")\n",
    "print(\"Number of rows and columns:\", df.shape)\n",
    "df.head(5)"
   ]
  },
  {
   "cell_type": "code",
   "execution_count": 3,
   "id": "49abeb9e",
   "metadata": {},
   "outputs": [
    {
     "name": "stdout",
     "output_type": "stream",
     "text": [
      "(5446, 4)\n",
      "(2333, 4)\n"
     ]
    }
   ],
   "source": [
    "training_set = df.iloc[:5446, 1:5].values\n",
    "test_set = df.iloc[5446:, 1:5].values\n",
    "\n",
    "print(training_set.shape)\n",
    "print(test_set.shape)"
   ]
  },
  {
   "cell_type": "code",
   "execution_count": 13,
   "id": "8d3c71de",
   "metadata": {},
   "outputs": [
    {
     "data": {
      "text/plain": [
       "(5386, 60, 4)"
      ]
     },
     "execution_count": 13,
     "metadata": {},
     "output_type": "execute_result"
    }
   ],
   "source": [
    "# Feature Scaling\n",
    "sc = MinMaxScaler(feature_range = (0, 1))\n",
    "training_set_scaled = sc.fit_transform(training_set)\n",
    "# print(training_set_scaled.shape)\n",
    "# Creating a data structure with 60 time-steps and 1 output\n",
    "X_train = []\n",
    "y_train = []\n",
    "for i in range(60, 5446):\n",
    "    X_train.append(training_set_scaled[i-60:i, 0:4])\n",
    "    y_train.append(training_set_scaled[i, 0:4])\n",
    "X_train, y_train = np.array(X_train), np.array(y_train)\n",
    "X_train = np.reshape(X_train, (X_train.shape[0], X_train.shape[1], 4))\n",
    "#(840, 60, 1)\n",
    "X_train.shape"
   ]
  },
  {
   "cell_type": "code",
   "execution_count": 46,
   "id": "48535fda",
   "metadata": {},
   "outputs": [],
   "source": [
    "# Feature Scaling\n",
    "# sc2 = MinMaxScaler(feature_range = (0, 1))\n",
    "# training_set_scaled = sc.fit_transform(training_set[:, 0:])\n",
    "# # Creating a data structure with 60 time-steps and 1 output\n",
    "# X_train = []\n",
    "# y_train = []\n",
    "# for i in range(60, 5446):\n",
    "#     X_train.append(training_set_scaled[i-60][0:4])\n",
    "#     y_train.append(training_set_scaled[i][0:4])\n",
    "# X_train, y_train = np.array(X_train), np.array(y_train)\n",
    "# X_train = np.reshape(X_train, (X_train.shape[0], X_train.shape[1], 4))\n",
    "#(840, 60, 1)\n",
    "# X_train.shape"
   ]
  },
  {
   "cell_type": "code",
   "execution_count": 14,
   "id": "f8542554",
   "metadata": {},
   "outputs": [
    {
     "name": "stdout",
     "output_type": "stream",
     "text": [
      "Epoch 1/100\n",
      "169/169 [==============================] - 33s 144ms/step - loss: 0.0169\n",
      "Epoch 2/100\n",
      "169/169 [==============================] - 25s 149ms/step - loss: 0.0064\n",
      "Epoch 3/100\n",
      "169/169 [==============================] - 26s 155ms/step - loss: 0.0053\n",
      "Epoch 4/100\n",
      "169/169 [==============================] - 29s 170ms/step - loss: 0.0042\n",
      "Epoch 5/100\n",
      "169/169 [==============================] - 27s 159ms/step - loss: 0.0041\n",
      "Epoch 6/100\n",
      "169/169 [==============================] - 25s 149ms/step - loss: 0.0033\n",
      "Epoch 7/100\n",
      "169/169 [==============================] - 25s 150ms/step - loss: 0.0030\n",
      "Epoch 8/100\n",
      "169/169 [==============================] - 26s 154ms/step - loss: 0.0029\n",
      "Epoch 9/100\n",
      "169/169 [==============================] - 25s 150ms/step - loss: 0.0025\n",
      "Epoch 10/100\n",
      "169/169 [==============================] - 26s 153ms/step - loss: 0.0023\n",
      "Epoch 11/100\n",
      "169/169 [==============================] - 25s 150ms/step - loss: 0.0022\n",
      "Epoch 12/100\n",
      "169/169 [==============================] - 26s 155ms/step - loss: 0.0019\n",
      "Epoch 13/100\n",
      "169/169 [==============================] - 26s 152ms/step - loss: 0.0019\n",
      "Epoch 14/100\n",
      "169/169 [==============================] - 25s 151ms/step - loss: 0.0018\n",
      "Epoch 15/100\n",
      "169/169 [==============================] - 26s 152ms/step - loss: 0.0017\n",
      "Epoch 16/100\n",
      "169/169 [==============================] - 26s 152ms/step - loss: 0.0015\n",
      "Epoch 17/100\n",
      "169/169 [==============================] - 27s 162ms/step - loss: 0.0015\n",
      "Epoch 18/100\n",
      "169/169 [==============================] - 26s 152ms/step - loss: 0.0014\n",
      "Epoch 19/100\n",
      "169/169 [==============================] - 26s 152ms/step - loss: 0.0013\n",
      "Epoch 20/100\n",
      "169/169 [==============================] - 26s 153ms/step - loss: 0.0012\n",
      "Epoch 21/100\n",
      "169/169 [==============================] - 26s 151ms/step - loss: 0.0013\n",
      "Epoch 22/100\n",
      "169/169 [==============================] - 26s 154ms/step - loss: 0.0011\n",
      "Epoch 23/100\n",
      "169/169 [==============================] - 26s 151ms/step - loss: 0.0011\n",
      "Epoch 24/100\n",
      "169/169 [==============================] - 26s 152ms/step - loss: 0.0011\n",
      "Epoch 25/100\n",
      "169/169 [==============================] - 26s 153ms/step - loss: 0.0011\n",
      "Epoch 26/100\n",
      "169/169 [==============================] - 26s 153ms/step - loss: 0.0010\n",
      "Epoch 27/100\n",
      "169/169 [==============================] - 26s 155ms/step - loss: 9.2680e-04\n",
      "Epoch 28/100\n",
      "169/169 [==============================] - 26s 152ms/step - loss: 9.2316e-04\n",
      "Epoch 29/100\n",
      "169/169 [==============================] - 26s 152ms/step - loss: 9.5030e-04\n",
      "Epoch 30/100\n",
      "169/169 [==============================] - 26s 153ms/step - loss: 9.2529e-04\n",
      "Epoch 31/100\n",
      "169/169 [==============================] - 26s 153ms/step - loss: 9.1212e-04\n",
      "Epoch 32/100\n",
      "169/169 [==============================] - 28s 164ms/step - loss: 9.0670e-04\n",
      "Epoch 33/100\n",
      "169/169 [==============================] - 27s 159ms/step - loss: 8.5583e-04\n",
      "Epoch 34/100\n",
      "169/169 [==============================] - 26s 151ms/step - loss: 8.9209e-04\n",
      "Epoch 35/100\n",
      "169/169 [==============================] - 26s 152ms/step - loss: 8.2956e-04\n",
      "Epoch 36/100\n",
      "169/169 [==============================] - 26s 154ms/step - loss: 7.9837e-04\n",
      "Epoch 37/100\n",
      "169/169 [==============================] - 26s 151ms/step - loss: 7.6466e-04\n",
      "Epoch 38/100\n",
      "169/169 [==============================] - 26s 152ms/step - loss: 7.6045e-04\n",
      "Epoch 39/100\n",
      "169/169 [==============================] - 26s 151ms/step - loss: 7.7137e-04\n",
      "Epoch 40/100\n",
      "169/169 [==============================] - 26s 155ms/step - loss: 7.3456e-04\n",
      "Epoch 41/100\n",
      "169/169 [==============================] - 26s 152ms/step - loss: 7.5553e-04\n",
      "Epoch 42/100\n",
      "169/169 [==============================] - 26s 152ms/step - loss: 7.4503e-04\n",
      "Epoch 43/100\n",
      "169/169 [==============================] - 26s 152ms/step - loss: 6.9773e-04\n",
      "Epoch 44/100\n",
      "169/169 [==============================] - 26s 152ms/step - loss: 7.5600e-04\n",
      "Epoch 45/100\n",
      "169/169 [==============================] - 26s 154ms/step - loss: 7.2241e-04\n",
      "Epoch 46/100\n",
      "169/169 [==============================] - 26s 156ms/step - loss: 7.2622e-04\n",
      "Epoch 47/100\n",
      "169/169 [==============================] - 26s 153ms/step - loss: 7.5378e-04\n",
      "Epoch 48/100\n",
      "169/169 [==============================] - 26s 153ms/step - loss: 7.0462e-04\n",
      "Epoch 49/100\n",
      "169/169 [==============================] - 26s 152ms/step - loss: 6.7066e-04\n",
      "Epoch 50/100\n",
      "169/169 [==============================] - 26s 155ms/step - loss: 7.0281e-04\n",
      "Epoch 51/100\n",
      "169/169 [==============================] - 26s 153ms/step - loss: 7.1517e-04\n",
      "Epoch 52/100\n",
      "169/169 [==============================] - 26s 152ms/step - loss: 7.0040e-04\n",
      "Epoch 53/100\n",
      "169/169 [==============================] - 26s 153ms/step - loss: 6.7931e-04\n",
      "Epoch 54/100\n",
      "169/169 [==============================] - 26s 155ms/step - loss: 6.7872e-04\n",
      "Epoch 55/100\n",
      "169/169 [==============================] - 26s 154ms/step - loss: 7.2977e-04\n",
      "Epoch 56/100\n",
      "169/169 [==============================] - 28s 166ms/step - loss: 6.6210e-04\n",
      "Epoch 57/100\n",
      "169/169 [==============================] - 27s 161ms/step - loss: 6.5746e-04\n",
      "Epoch 58/100\n",
      "169/169 [==============================] - 26s 152ms/step - loss: 6.1098e-04\n",
      "Epoch 59/100\n",
      "169/169 [==============================] - 26s 152ms/step - loss: 6.2934e-04\n",
      "Epoch 60/100\n",
      "169/169 [==============================] - 25s 150ms/step - loss: 6.9068e-04\n",
      "Epoch 61/100\n",
      "169/169 [==============================] - 26s 156ms/step - loss: 6.5287e-04\n",
      "Epoch 62/100\n",
      "169/169 [==============================] - 26s 156ms/step - loss: 6.3562e-04\n",
      "Epoch 63/100\n",
      "169/169 [==============================] - 26s 153ms/step - loss: 5.8663e-04\n",
      "Epoch 64/100\n",
      "169/169 [==============================] - 29s 172ms/step - loss: 6.4501e-04\n",
      "Epoch 65/100\n",
      "169/169 [==============================] - 26s 156ms/step - loss: 6.1659e-04\n",
      "Epoch 66/100\n",
      "169/169 [==============================] - 26s 152ms/step - loss: 6.3717e-04\n",
      "Epoch 67/100\n",
      "169/169 [==============================] - 26s 151ms/step - loss: 6.3330e-04\n",
      "Epoch 68/100\n",
      "169/169 [==============================] - 26s 151ms/step - loss: 5.9447e-04\n",
      "Epoch 69/100\n",
      "169/169 [==============================] - 26s 152ms/step - loss: 6.6122e-04\n",
      "Epoch 70/100\n",
      "169/169 [==============================] - 27s 162ms/step - loss: 6.5390e-04\n",
      "Epoch 71/100\n",
      "169/169 [==============================] - 26s 156ms/step - loss: 6.1522e-04\n",
      "Epoch 72/100\n",
      "169/169 [==============================] - 27s 161ms/step - loss: 6.2702e-04\n",
      "Epoch 73/100\n",
      "169/169 [==============================] - 29s 171ms/step - loss: 6.1068e-04\n",
      "Epoch 74/100\n",
      "169/169 [==============================] - 30s 179ms/step - loss: 6.6965e-04\n",
      "Epoch 75/100\n",
      "169/169 [==============================] - 31s 184ms/step - loss: 5.9078e-04\n",
      "Epoch 76/100\n",
      "169/169 [==============================] - 30s 180ms/step - loss: 5.9663e-04\n",
      "Epoch 77/100\n",
      "169/169 [==============================] - 27s 160ms/step - loss: 6.1596e-04\n",
      "Epoch 78/100\n",
      "169/169 [==============================] - 28s 166ms/step - loss: 5.8604e-04\n",
      "Epoch 79/100\n",
      "169/169 [==============================] - 29s 174ms/step - loss: 6.2219e-04\n",
      "Epoch 80/100\n",
      "169/169 [==============================] - 28s 166ms/step - loss: 6.2621e-04\n",
      "Epoch 81/100\n",
      "169/169 [==============================] - 27s 162ms/step - loss: 5.7063e-04\n",
      "Epoch 82/100\n",
      "169/169 [==============================] - 27s 157ms/step - loss: 6.4026e-04\n",
      "Epoch 83/100\n",
      "169/169 [==============================] - 26s 155ms/step - loss: 6.2522e-04\n",
      "Epoch 84/100\n",
      "169/169 [==============================] - 26s 156ms/step - loss: 5.9467e-04\n",
      "Epoch 85/100\n",
      "169/169 [==============================] - 26s 156ms/step - loss: 5.7567e-04\n",
      "Epoch 86/100\n",
      "169/169 [==============================] - 26s 153ms/step - loss: 6.0539e-04\n",
      "Epoch 87/100\n",
      "169/169 [==============================] - 26s 152ms/step - loss: 5.8644e-04\n",
      "Epoch 88/100\n",
      "169/169 [==============================] - 26s 155ms/step - loss: 6.2630e-04\n",
      "Epoch 89/100\n",
      "169/169 [==============================] - 28s 167ms/step - loss: 6.1864e-04\n",
      "Epoch 90/100\n",
      "169/169 [==============================] - 26s 154ms/step - loss: 6.0185e-04\n",
      "Epoch 91/100\n",
      "169/169 [==============================] - 26s 151ms/step - loss: 6.0015e-04\n",
      "Epoch 92/100\n",
      "169/169 [==============================] - 26s 153ms/step - loss: 5.8542e-04\n",
      "Epoch 93/100\n"
     ]
    },
    {
     "name": "stdout",
     "output_type": "stream",
     "text": [
      "169/169 [==============================] - 26s 152ms/step - loss: 5.9426e-04\n",
      "Epoch 94/100\n",
      "169/169 [==============================] - 27s 158ms/step - loss: 5.9283e-04\n",
      "Epoch 95/100\n",
      "169/169 [==============================] - 26s 152ms/step - loss: 5.9374e-04\n",
      "Epoch 96/100\n",
      "169/169 [==============================] - 26s 151ms/step - loss: 5.7421e-04\n",
      "Epoch 97/100\n",
      "169/169 [==============================] - 25s 150ms/step - loss: 5.9082e-04\n",
      "Epoch 98/100\n",
      "169/169 [==============================] - 26s 154ms/step - loss: 5.6996e-04\n",
      "Epoch 99/100\n",
      "169/169 [==============================] - 26s 153ms/step - loss: 6.0066e-04\n",
      "Epoch 100/100\n",
      "169/169 [==============================] - 26s 151ms/step - loss: 6.0354e-04\n"
     ]
    },
    {
     "data": {
      "text/plain": [
       "<keras.callbacks.History at 0x1fa60f59670>"
      ]
     },
     "execution_count": 14,
     "metadata": {},
     "output_type": "execute_result"
    }
   ],
   "source": [
    "model = Sequential()\n",
    "#Adding the first LSTM layer and some Dropout regularisation\n",
    "model.add(LSTM(units = 50, return_sequences = True, input_shape = (X_train.shape[1], 4)))\n",
    "model.add(Dropout(0.2))\n",
    "# Adding a second LSTM layer and some Dropout regularisation\n",
    "model.add(LSTM(units = 50, return_sequences = True))\n",
    "model.add(Dropout(0.2))\n",
    "# Adding a third LSTM layer and some Dropout regularisation\n",
    "model.add(LSTM(units = 50, return_sequences = True))\n",
    "model.add(Dropout(0.2))\n",
    "# Adding a fourth LSTM layer and some Dropout regularisation\n",
    "model.add(LSTM(units = 50))\n",
    "model.add(Dropout(0.2))\n",
    "# Adding the output layer\n",
    "model.add(Dense(units = 4))\n",
    "\n",
    "# Compiling the RNN\n",
    "model.compile(optimizer = 'adam', loss = 'mean_squared_error')\n",
    "\n",
    "# Fitting the RNN to the Training set\n",
    "model.fit(X_train, y_train, epochs = 100, batch_size = 32)"
   ]
  },
  {
   "cell_type": "code",
   "execution_count": 15,
   "id": "70138b3f",
   "metadata": {},
   "outputs": [
    {
     "name": "stderr",
     "output_type": "stream",
     "text": [
      "WARNING:absl:Found untraced functions such as lstm_cell_layer_call_fn, lstm_cell_layer_call_and_return_conditional_losses, lstm_cell_1_layer_call_fn, lstm_cell_1_layer_call_and_return_conditional_losses, lstm_cell_2_layer_call_fn while saving (showing 5 of 8). These functions will not be directly callable after loading.\n"
     ]
    },
    {
     "name": "stdout",
     "output_type": "stream",
     "text": [
      "INFO:tensorflow:Assets written to: Models/11-29-2022\\assets\n"
     ]
    },
    {
     "name": "stderr",
     "output_type": "stream",
     "text": [
      "INFO:tensorflow:Assets written to: Models/11-29-2022\\assets\n"
     ]
    }
   ],
   "source": [
    "model.save('Models/11-29-2022')"
   ]
  },
  {
   "cell_type": "code",
   "execution_count": 16,
   "id": "cca6fd4d",
   "metadata": {},
   "outputs": [
    {
     "name": "stdout",
     "output_type": "stream",
     "text": [
      "(2333, 60, 4)\n"
     ]
    },
    {
     "data": {
      "text/plain": [
       "(2333, 60, 4)"
      ]
     },
     "execution_count": 16,
     "metadata": {},
     "output_type": "execute_result"
    }
   ],
   "source": [
    "# Getting the predicted stock price of 2017\n",
    "dataset_train = df.iloc[:5446, 1:5]\n",
    "dataset_test = df.iloc[5446:, 1:5]\n",
    "dataset_total = pd.concat((dataset_train, dataset_test), axis = 0)\n",
    "inputs = dataset_total[len(dataset_total) - len(dataset_test) - 60:].values\n",
    "inputs = inputs.reshape(-1,4)\n",
    "inputs = sc.transform(inputs)\n",
    "X_test = []\n",
    "for i in range(60, 2393):\n",
    "    X_test.append(inputs[i-60:i])\n",
    "X_test = np.array(X_test)\n",
    "X_test = np.reshape(X_test, (X_test.shape[0], X_test.shape[1], 4))\n",
    "print(X_test.shape)\n",
    "# (300, 60, 1)\n",
    "X_test.shape"
   ]
  },
  {
   "cell_type": "code",
   "execution_count": 17,
   "id": "6dcf8c44",
   "metadata": {},
   "outputs": [
    {
     "name": "stdout",
     "output_type": "stream",
     "text": [
      "73/73 [==============================] - 5s 41ms/step\n"
     ]
    },
    {
     "data": {
      "text/plain": [
       "(2333, 4)"
      ]
     },
     "execution_count": 17,
     "metadata": {},
     "output_type": "execute_result"
    }
   ],
   "source": [
    "predicted_stock_price = model.predict(X_test)\n",
    "# predicted_stock_price = sc.inverse_transform(predicted_stock_price)\n",
    "predicted_stock_price.shape"
   ]
  },
  {
   "cell_type": "code",
   "execution_count": 18,
   "id": "4bc8cf82",
   "metadata": {},
   "outputs": [
    {
     "data": {
      "image/png": "[encoded data removed]",
      "text/plain": [
       "<Figure size 640x480 with 1 Axes>"
      ]
     },
     "metadata": {},
     "output_type": "display_data"
    }
   ],
   "source": [
    "# Visualising the results\n",
    "plt.plot(df.loc[5446:, 'Unnamed: 0'],dataset_test.values, color = 'red', label = 'Real Microsoft Stock Price')\n",
    "plt.plot(df.loc[5446:, 'Unnamed: 0'],predicted_stock_price, color = 'blue', label = 'Predicted Microsoft Stock Price')\n",
    "plt.xticks(np.arange(0,459,50))\n",
    "plt.title('Microsoft Stock Price Prediction')\n",
    "plt.xlabel('Time')\n",
    "plt.ylabel('Microsoft Stock Price')\n",
    "plt.legend()\n",
    "plt.show()"
   ]
  },
  {
   "cell_type": "code",
   "execution_count": 26,
   "id": "a465ed73",
   "metadata": {},
   "outputs": [],
   "source": [
    "predicted_prices_df =pd.DataFrame(predicted_stock_price, columns = ['Price'])\n",
    "predicted_prices_df.to_csv (r'C:\\Users\\kayra\\OneDrive\\Desktop\\Stonks 2022\\2022-2023-Stocks-Prediction\\Predictions\\Close Price Prediction.csv', index = False, header=True)"
   ]
  },
  {
   "cell_type": "code",
   "execution_count": null,
   "id": "e8327c04",
   "metadata": {},
   "outputs": [],
   "source": []
  }
 ],
 "metadata": {
  "kernelspec": {
   "display_name": "Python 3 (ipykernel)",
   "language": "python",
   "name": "python3"
  },
  "language_info": {
   "codemirror_mode": {
    "name": "ipython",
    "version": 3
   },
   "file_extension": ".py",
   "mimetype": "text/x-python",
   "name": "python",
   "nbconvert_exporter": "python",
   "pygments_lexer": "ipython3",
   "version": "3.9.12"
  }
 },
 "nbformat": 4,
 "nbformat_minor": 5
}
